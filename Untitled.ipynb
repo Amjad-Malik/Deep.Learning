{
 "cells": [
  {
   "cell_type": "markdown",
   "id": "13b5b3fa",
   "metadata": {},
   "source": [
    "# Import"
   ]
  },
  {
   "cell_type": "code",
   "execution_count": 1,
   "id": "9f720631",
   "metadata": {},
   "outputs": [],
   "source": [
    "import cv2\n",
    "import numpy as np\n",
    "import os\n",
    "from matplotlib import pyplot as plt\n",
    "import time\n",
    "import mediapipe as mp\n",
    "from sklearn.model_selection import train_test_split\n",
    "from tensorflow.keras.utils import to_categorical\n",
    "import tensorflow\n",
    "from tensorflow.keras.models import Sequential\n",
    "from tensorflow.keras.layers import LSTM, Dense\n",
    "from tensorflow.keras.callbacks import TensorBoard"
   ]
  },
  {
   "cell_type": "markdown",
   "id": "dbfee3be",
   "metadata": {},
   "source": [
    "# Keypoints using Mediapipe Holistic"
   ]
  },
  {
   "cell_type": "code",
   "execution_count": 2,
   "id": "83ed7d4e",
   "metadata": {},
   "outputs": [],
   "source": [
    "mp_holistic = mp.solutions.holistic # Holistic model\n",
    "mp_drawing = mp.solutions.drawing_utils # Drawing utilities"
   ]
  },
  {
   "cell_type": "code",
   "execution_count": 6,
   "id": "e1b996ee",
   "metadata": {},
   "outputs": [],
   "source": [
    "def mediapipe_detection(image, model):\n",
    "    image = cv2.cvtColor(image, cv2.COLOR_BGR2RGB) # COLOR CONVERSION BGR 2 RGB\n",
    "    image.flags.writeable = False                  # Image is no longer writeable\n",
    "    results = model.process(image)                 # Make prediction\n",
    "    image.flags.writeable = True                   # Image is now writeable \n",
    "    image = cv2.cvtColor(image, cv2.COLOR_RGB2BGR) # COLOR COVERSION RGB 2 BGR\n",
    "    return image, results"
   ]
  },
  {
   "cell_type": "code",
   "execution_count": 7,
   "id": "d791e2ae",
   "metadata": {},
   "outputs": [],
   "source": [
    "def draw_landmarks(image, results):\n",
    "    mp_drawing.draw_landmarks(image, results.face_landmarks, mp_holistic.FACEMESH_CONTOURS) # Draw face connections\n",
    "    mp_drawing.draw_landmarks(image, results.pose_landmarks, mp_holistic.POSE_CONNECTIONS) # Draw pose connections\n",
    "    mp_drawing.draw_landmarks(image, results.left_hand_landmarks, mp_holistic.HAND_CONNECTIONS) # Draw left hand connections\n",
    "    mp_drawing.draw_landmarks(image, results.right_hand_landmarks, mp_holistic.HAND_CONNECTIONS) # Draw right hand connections"
   ]
  },
  {
   "cell_type": "code",
   "execution_count": 8,
   "id": "b936a76c",
   "metadata": {},
   "outputs": [],
   "source": [
    "#changing the colors of the landmarks(dots) and connections\n",
    "\n",
    "def draw_styled_landmarks(image, results):\n",
    "    \n",
    "    # Draw face connections\n",
    "    mp_drawing.draw_landmarks(image, results.face_landmarks, mp_holistic.FACEMESH_CONTOURS,\n",
    "                             mp_drawing.DrawingSpec(color=(80,110,10), thickness=1, circle_radius=1),\n",
    "                             mp_drawing.DrawingSpec(color=(80,110,10), thickness=1, circle_radius=1)\n",
    "                             )\n",
    "    \n",
    "    # Draw pose connections\n",
    "    mp_drawing.draw_landmarks(image, results.pose_landmarks, mp_holistic.POSE_CONNECTIONS,\n",
    "                             mp_drawing.DrawingSpec(color=(80,44,10), thickness=2, circle_radius=4),\n",
    "                             mp_drawing.DrawingSpec(color=(80,88,10), thickness=2, circle_radius=4)\n",
    "                             ) \n",
    "    \n",
    "    # Draw left hand connections\n",
    "    mp_drawing.draw_landmarks(image, results.left_hand_landmarks, mp_holistic.HAND_CONNECTIONS,\n",
    "                             mp_drawing.DrawingSpec(color=(120,44,240), thickness=2, circle_radius=2),\n",
    "                             mp_drawing.DrawingSpec(color=(120,88,180), thickness=2, circle_radius=2)\n",
    "                             )\n",
    "    \n",
    "    # Draw right hand connections\n",
    "    mp_drawing.draw_landmarks(image, results.right_hand_landmarks, mp_holistic.HAND_CONNECTIONS,\n",
    "                             mp_drawing.DrawingSpec(color=(200,44,100), thickness=2, circle_radius=2),\n",
    "                             mp_drawing.DrawingSpec(color=(200,88,100), thickness=2, circle_radius=2)\n",
    "                             ) "
   ]
  },
  {
   "cell_type": "code",
   "execution_count": 11,
   "id": "741836ad",
   "metadata": {},
   "outputs": [
    {
     "name": "stdout",
     "output_type": "stream",
     "text": [
      "<class 'mediapipe.python.solution_base.SolutionOutputs'>\n",
      "<class 'mediapipe.python.solution_base.SolutionOutputs'>\n",
      "<class 'mediapipe.python.solution_base.SolutionOutputs'>\n",
      "<class 'mediapipe.python.solution_base.SolutionOutputs'>\n",
      "<class 'mediapipe.python.solution_base.SolutionOutputs'>\n",
      "<class 'mediapipe.python.solution_base.SolutionOutputs'>\n",
      "<class 'mediapipe.python.solution_base.SolutionOutputs'>\n",
      "<class 'mediapipe.python.solution_base.SolutionOutputs'>\n",
      "<class 'mediapipe.python.solution_base.SolutionOutputs'>\n",
      "<class 'mediapipe.python.solution_base.SolutionOutputs'>\n",
      "<class 'mediapipe.python.solution_base.SolutionOutputs'>\n",
      "<class 'mediapipe.python.solution_base.SolutionOutputs'>\n",
      "<class 'mediapipe.python.solution_base.SolutionOutputs'>\n",
      "<class 'mediapipe.python.solution_base.SolutionOutputs'>\n",
      "<class 'mediapipe.python.solution_base.SolutionOutputs'>\n",
      "<class 'mediapipe.python.solution_base.SolutionOutputs'>\n",
      "<class 'mediapipe.python.solution_base.SolutionOutputs'>\n",
      "<class 'mediapipe.python.solution_base.SolutionOutputs'>\n",
      "<class 'mediapipe.python.solution_base.SolutionOutputs'>\n",
      "<class 'mediapipe.python.solution_base.SolutionOutputs'>\n",
      "<class 'mediapipe.python.solution_base.SolutionOutputs'>\n",
      "<class 'mediapipe.python.solution_base.SolutionOutputs'>\n",
      "<class 'mediapipe.python.solution_base.SolutionOutputs'>\n",
      "<class 'mediapipe.python.solution_base.SolutionOutputs'>\n",
      "<class 'mediapipe.python.solution_base.SolutionOutputs'>\n",
      "<class 'mediapipe.python.solution_base.SolutionOutputs'>\n",
      "<class 'mediapipe.python.solution_base.SolutionOutputs'>\n",
      "<class 'mediapipe.python.solution_base.SolutionOutputs'>\n",
      "<class 'mediapipe.python.solution_base.SolutionOutputs'>\n",
      "<class 'mediapipe.python.solution_base.SolutionOutputs'>\n",
      "<class 'mediapipe.python.solution_base.SolutionOutputs'>\n",
      "<class 'mediapipe.python.solution_base.SolutionOutputs'>\n",
      "<class 'mediapipe.python.solution_base.SolutionOutputs'>\n",
      "<class 'mediapipe.python.solution_base.SolutionOutputs'>\n",
      "<class 'mediapipe.python.solution_base.SolutionOutputs'>\n",
      "<class 'mediapipe.python.solution_base.SolutionOutputs'>\n",
      "<class 'mediapipe.python.solution_base.SolutionOutputs'>\n",
      "<class 'mediapipe.python.solution_base.SolutionOutputs'>\n",
      "<class 'mediapipe.python.solution_base.SolutionOutputs'>\n",
      "<class 'mediapipe.python.solution_base.SolutionOutputs'>\n",
      "<class 'mediapipe.python.solution_base.SolutionOutputs'>\n",
      "<class 'mediapipe.python.solution_base.SolutionOutputs'>\n",
      "<class 'mediapipe.python.solution_base.SolutionOutputs'>\n",
      "<class 'mediapipe.python.solution_base.SolutionOutputs'>\n",
      "<class 'mediapipe.python.solution_base.SolutionOutputs'>\n",
      "<class 'mediapipe.python.solution_base.SolutionOutputs'>\n",
      "<class 'mediapipe.python.solution_base.SolutionOutputs'>\n",
      "<class 'mediapipe.python.solution_base.SolutionOutputs'>\n",
      "<class 'mediapipe.python.solution_base.SolutionOutputs'>\n",
      "<class 'mediapipe.python.solution_base.SolutionOutputs'>\n",
      "<class 'mediapipe.python.solution_base.SolutionOutputs'>\n",
      "<class 'mediapipe.python.solution_base.SolutionOutputs'>\n",
      "<class 'mediapipe.python.solution_base.SolutionOutputs'>\n",
      "<class 'mediapipe.python.solution_base.SolutionOutputs'>\n",
      "<class 'mediapipe.python.solution_base.SolutionOutputs'>\n",
      "<class 'mediapipe.python.solution_base.SolutionOutputs'>\n",
      "<class 'mediapipe.python.solution_base.SolutionOutputs'>\n",
      "<class 'mediapipe.python.solution_base.SolutionOutputs'>\n",
      "<class 'mediapipe.python.solution_base.SolutionOutputs'>\n",
      "<class 'mediapipe.python.solution_base.SolutionOutputs'>\n",
      "<class 'mediapipe.python.solution_base.SolutionOutputs'>\n",
      "<class 'mediapipe.python.solution_base.SolutionOutputs'>\n",
      "<class 'mediapipe.python.solution_base.SolutionOutputs'>\n",
      "<class 'mediapipe.python.solution_base.SolutionOutputs'>\n",
      "<class 'mediapipe.python.solution_base.SolutionOutputs'>\n",
      "<class 'mediapipe.python.solution_base.SolutionOutputs'>\n",
      "<class 'mediapipe.python.solution_base.SolutionOutputs'>\n",
      "<class 'mediapipe.python.solution_base.SolutionOutputs'>\n",
      "<class 'mediapipe.python.solution_base.SolutionOutputs'>\n",
      "<class 'mediapipe.python.solution_base.SolutionOutputs'>\n",
      "<class 'mediapipe.python.solution_base.SolutionOutputs'>\n",
      "<class 'mediapipe.python.solution_base.SolutionOutputs'>\n",
      "<class 'mediapipe.python.solution_base.SolutionOutputs'>\n",
      "<class 'mediapipe.python.solution_base.SolutionOutputs'>\n",
      "<class 'mediapipe.python.solution_base.SolutionOutputs'>\n",
      "<class 'mediapipe.python.solution_base.SolutionOutputs'>\n",
      "<class 'mediapipe.python.solution_base.SolutionOutputs'>\n",
      "<class 'mediapipe.python.solution_base.SolutionOutputs'>\n",
      "<class 'mediapipe.python.solution_base.SolutionOutputs'>\n",
      "<class 'mediapipe.python.solution_base.SolutionOutputs'>\n",
      "<class 'mediapipe.python.solution_base.SolutionOutputs'>\n",
      "<class 'mediapipe.python.solution_base.SolutionOutputs'>\n",
      "<class 'mediapipe.python.solution_base.SolutionOutputs'>\n",
      "<class 'mediapipe.python.solution_base.SolutionOutputs'>\n",
      "<class 'mediapipe.python.solution_base.SolutionOutputs'>\n",
      "<class 'mediapipe.python.solution_base.SolutionOutputs'>\n",
      "<class 'mediapipe.python.solution_base.SolutionOutputs'>\n",
      "<class 'mediapipe.python.solution_base.SolutionOutputs'>\n",
      "<class 'mediapipe.python.solution_base.SolutionOutputs'>\n",
      "<class 'mediapipe.python.solution_base.SolutionOutputs'>\n",
      "<class 'mediapipe.python.solution_base.SolutionOutputs'>\n",
      "<class 'mediapipe.python.solution_base.SolutionOutputs'>\n",
      "<class 'mediapipe.python.solution_base.SolutionOutputs'>\n",
      "<class 'mediapipe.python.solution_base.SolutionOutputs'>\n",
      "<class 'mediapipe.python.solution_base.SolutionOutputs'>\n",
      "<class 'mediapipe.python.solution_base.SolutionOutputs'>\n",
      "<class 'mediapipe.python.solution_base.SolutionOutputs'>\n",
      "<class 'mediapipe.python.solution_base.SolutionOutputs'>\n",
      "<class 'mediapipe.python.solution_base.SolutionOutputs'>\n",
      "<class 'mediapipe.python.solution_base.SolutionOutputs'>\n",
      "<class 'mediapipe.python.solution_base.SolutionOutputs'>\n",
      "<class 'mediapipe.python.solution_base.SolutionOutputs'>\n",
      "<class 'mediapipe.python.solution_base.SolutionOutputs'>\n",
      "<class 'mediapipe.python.solution_base.SolutionOutputs'>\n",
      "<class 'mediapipe.python.solution_base.SolutionOutputs'>\n",
      "<class 'mediapipe.python.solution_base.SolutionOutputs'>\n",
      "<class 'mediapipe.python.solution_base.SolutionOutputs'>\n",
      "<class 'mediapipe.python.solution_base.SolutionOutputs'>\n",
      "<class 'mediapipe.python.solution_base.SolutionOutputs'>\n",
      "<class 'mediapipe.python.solution_base.SolutionOutputs'>\n",
      "<class 'mediapipe.python.solution_base.SolutionOutputs'>\n",
      "<class 'mediapipe.python.solution_base.SolutionOutputs'>\n",
      "<class 'mediapipe.python.solution_base.SolutionOutputs'>\n",
      "<class 'mediapipe.python.solution_base.SolutionOutputs'>\n",
      "<class 'mediapipe.python.solution_base.SolutionOutputs'>\n",
      "<class 'mediapipe.python.solution_base.SolutionOutputs'>\n",
      "<class 'mediapipe.python.solution_base.SolutionOutputs'>\n",
      "<class 'mediapipe.python.solution_base.SolutionOutputs'>\n",
      "<class 'mediapipe.python.solution_base.SolutionOutputs'>\n",
      "<class 'mediapipe.python.solution_base.SolutionOutputs'>\n",
      "<class 'mediapipe.python.solution_base.SolutionOutputs'>\n",
      "<class 'mediapipe.python.solution_base.SolutionOutputs'>\n",
      "<class 'mediapipe.python.solution_base.SolutionOutputs'>\n",
      "<class 'mediapipe.python.solution_base.SolutionOutputs'>\n",
      "<class 'mediapipe.python.solution_base.SolutionOutputs'>\n",
      "<class 'mediapipe.python.solution_base.SolutionOutputs'>\n",
      "<class 'mediapipe.python.solution_base.SolutionOutputs'>\n",
      "<class 'mediapipe.python.solution_base.SolutionOutputs'>\n",
      "<class 'mediapipe.python.solution_base.SolutionOutputs'>\n",
      "<class 'mediapipe.python.solution_base.SolutionOutputs'>\n",
      "<class 'mediapipe.python.solution_base.SolutionOutputs'>\n",
      "<class 'mediapipe.python.solution_base.SolutionOutputs'>\n",
      "<class 'mediapipe.python.solution_base.SolutionOutputs'>\n",
      "<class 'mediapipe.python.solution_base.SolutionOutputs'>\n",
      "<class 'mediapipe.python.solution_base.SolutionOutputs'>\n",
      "<class 'mediapipe.python.solution_base.SolutionOutputs'>\n",
      "<class 'mediapipe.python.solution_base.SolutionOutputs'>\n",
      "<class 'mediapipe.python.solution_base.SolutionOutputs'>\n",
      "<class 'mediapipe.python.solution_base.SolutionOutputs'>\n",
      "<class 'mediapipe.python.solution_base.SolutionOutputs'>\n",
      "<class 'mediapipe.python.solution_base.SolutionOutputs'>\n",
      "<class 'mediapipe.python.solution_base.SolutionOutputs'>\n",
      "<class 'mediapipe.python.solution_base.SolutionOutputs'>\n",
      "<class 'mediapipe.python.solution_base.SolutionOutputs'>\n",
      "<class 'mediapipe.python.solution_base.SolutionOutputs'>\n",
      "<class 'mediapipe.python.solution_base.SolutionOutputs'>\n"
     ]
    },
    {
     "name": "stdout",
     "output_type": "stream",
     "text": [
      "<class 'mediapipe.python.solution_base.SolutionOutputs'>\n",
      "<class 'mediapipe.python.solution_base.SolutionOutputs'>\n",
      "<class 'mediapipe.python.solution_base.SolutionOutputs'>\n",
      "<class 'mediapipe.python.solution_base.SolutionOutputs'>\n",
      "<class 'mediapipe.python.solution_base.SolutionOutputs'>\n",
      "<class 'mediapipe.python.solution_base.SolutionOutputs'>\n",
      "<class 'mediapipe.python.solution_base.SolutionOutputs'>\n",
      "<class 'mediapipe.python.solution_base.SolutionOutputs'>\n",
      "<class 'mediapipe.python.solution_base.SolutionOutputs'>\n",
      "<class 'mediapipe.python.solution_base.SolutionOutputs'>\n",
      "<class 'mediapipe.python.solution_base.SolutionOutputs'>\n",
      "<class 'mediapipe.python.solution_base.SolutionOutputs'>\n",
      "<class 'mediapipe.python.solution_base.SolutionOutputs'>\n",
      "<class 'mediapipe.python.solution_base.SolutionOutputs'>\n",
      "<class 'mediapipe.python.solution_base.SolutionOutputs'>\n",
      "<class 'mediapipe.python.solution_base.SolutionOutputs'>\n",
      "<class 'mediapipe.python.solution_base.SolutionOutputs'>\n",
      "<class 'mediapipe.python.solution_base.SolutionOutputs'>\n",
      "<class 'mediapipe.python.solution_base.SolutionOutputs'>\n",
      "<class 'mediapipe.python.solution_base.SolutionOutputs'>\n",
      "<class 'mediapipe.python.solution_base.SolutionOutputs'>\n",
      "<class 'mediapipe.python.solution_base.SolutionOutputs'>\n",
      "<class 'mediapipe.python.solution_base.SolutionOutputs'>\n",
      "<class 'mediapipe.python.solution_base.SolutionOutputs'>\n",
      "<class 'mediapipe.python.solution_base.SolutionOutputs'>\n",
      "<class 'mediapipe.python.solution_base.SolutionOutputs'>\n",
      "<class 'mediapipe.python.solution_base.SolutionOutputs'>\n",
      "<class 'mediapipe.python.solution_base.SolutionOutputs'>\n",
      "<class 'mediapipe.python.solution_base.SolutionOutputs'>\n",
      "<class 'mediapipe.python.solution_base.SolutionOutputs'>\n",
      "<class 'mediapipe.python.solution_base.SolutionOutputs'>\n",
      "<class 'mediapipe.python.solution_base.SolutionOutputs'>\n",
      "<class 'mediapipe.python.solution_base.SolutionOutputs'>\n",
      "<class 'mediapipe.python.solution_base.SolutionOutputs'>\n",
      "<class 'mediapipe.python.solution_base.SolutionOutputs'>\n",
      "<class 'mediapipe.python.solution_base.SolutionOutputs'>\n",
      "<class 'mediapipe.python.solution_base.SolutionOutputs'>\n",
      "<class 'mediapipe.python.solution_base.SolutionOutputs'>\n",
      "<class 'mediapipe.python.solution_base.SolutionOutputs'>\n",
      "<class 'mediapipe.python.solution_base.SolutionOutputs'>\n",
      "<class 'mediapipe.python.solution_base.SolutionOutputs'>\n",
      "<class 'mediapipe.python.solution_base.SolutionOutputs'>\n",
      "<class 'mediapipe.python.solution_base.SolutionOutputs'>\n",
      "<class 'mediapipe.python.solution_base.SolutionOutputs'>\n",
      "<class 'mediapipe.python.solution_base.SolutionOutputs'>\n",
      "<class 'mediapipe.python.solution_base.SolutionOutputs'>\n",
      "<class 'mediapipe.python.solution_base.SolutionOutputs'>\n",
      "<class 'mediapipe.python.solution_base.SolutionOutputs'>\n",
      "<class 'mediapipe.python.solution_base.SolutionOutputs'>\n",
      "<class 'mediapipe.python.solution_base.SolutionOutputs'>\n",
      "<class 'mediapipe.python.solution_base.SolutionOutputs'>\n",
      "<class 'mediapipe.python.solution_base.SolutionOutputs'>\n",
      "<class 'mediapipe.python.solution_base.SolutionOutputs'>\n",
      "<class 'mediapipe.python.solution_base.SolutionOutputs'>\n",
      "<class 'mediapipe.python.solution_base.SolutionOutputs'>\n",
      "<class 'mediapipe.python.solution_base.SolutionOutputs'>\n",
      "<class 'mediapipe.python.solution_base.SolutionOutputs'>\n",
      "<class 'mediapipe.python.solution_base.SolutionOutputs'>\n",
      "<class 'mediapipe.python.solution_base.SolutionOutputs'>\n",
      "<class 'mediapipe.python.solution_base.SolutionOutputs'>\n",
      "<class 'mediapipe.python.solution_base.SolutionOutputs'>\n",
      "<class 'mediapipe.python.solution_base.SolutionOutputs'>\n",
      "<class 'mediapipe.python.solution_base.SolutionOutputs'>\n",
      "<class 'mediapipe.python.solution_base.SolutionOutputs'>\n",
      "<class 'mediapipe.python.solution_base.SolutionOutputs'>\n",
      "<class 'mediapipe.python.solution_base.SolutionOutputs'>\n",
      "<class 'mediapipe.python.solution_base.SolutionOutputs'>\n",
      "<class 'mediapipe.python.solution_base.SolutionOutputs'>\n",
      "<class 'mediapipe.python.solution_base.SolutionOutputs'>\n",
      "<class 'mediapipe.python.solution_base.SolutionOutputs'>\n",
      "<class 'mediapipe.python.solution_base.SolutionOutputs'>\n",
      "<class 'mediapipe.python.solution_base.SolutionOutputs'>\n",
      "<class 'mediapipe.python.solution_base.SolutionOutputs'>\n",
      "<class 'mediapipe.python.solution_base.SolutionOutputs'>\n",
      "<class 'mediapipe.python.solution_base.SolutionOutputs'>\n",
      "<class 'mediapipe.python.solution_base.SolutionOutputs'>\n",
      "<class 'mediapipe.python.solution_base.SolutionOutputs'>\n",
      "<class 'mediapipe.python.solution_base.SolutionOutputs'>\n",
      "<class 'mediapipe.python.solution_base.SolutionOutputs'>\n",
      "<class 'mediapipe.python.solution_base.SolutionOutputs'>\n",
      "<class 'mediapipe.python.solution_base.SolutionOutputs'>\n",
      "<class 'mediapipe.python.solution_base.SolutionOutputs'>\n",
      "<class 'mediapipe.python.solution_base.SolutionOutputs'>\n",
      "<class 'mediapipe.python.solution_base.SolutionOutputs'>\n",
      "<class 'mediapipe.python.solution_base.SolutionOutputs'>\n",
      "<class 'mediapipe.python.solution_base.SolutionOutputs'>\n",
      "<class 'mediapipe.python.solution_base.SolutionOutputs'>\n",
      "<class 'mediapipe.python.solution_base.SolutionOutputs'>\n",
      "<class 'mediapipe.python.solution_base.SolutionOutputs'>\n",
      "<class 'mediapipe.python.solution_base.SolutionOutputs'>\n",
      "<class 'mediapipe.python.solution_base.SolutionOutputs'>\n",
      "<class 'mediapipe.python.solution_base.SolutionOutputs'>\n"
     ]
    }
   ],
   "source": [
    "cap = cv2.VideoCapture(0)\n",
    "# Set mediapipe model \n",
    "with mp_holistic.Holistic(min_detection_confidence=0.5, min_tracking_confidence=0.5) as holistic:\n",
    "    while cap.isOpened():\n",
    "\n",
    "        # Read feed\n",
    "        ret, frame = cap.read()\n",
    "\n",
    "        # Make detections\n",
    "        image, results = mediapipe_detection(frame, holistic)\n",
    "        print(results)\n",
    "        \n",
    "        # Draw Landmarks in real time\n",
    "        draw_styled_landmarks(image, results)\n",
    "        \n",
    "        # Show to screen\n",
    "        cv2.imshow('OpenCV Feed', image)\n",
    "\n",
    "        # Break gracefully\n",
    "        if cv2.waitKey(10) & 0xFF == ord('q'):\n",
    "            break\n",
    "    cap.release()\n",
    "    cv2.destroyAllWindows()"
   ]
  },
  {
   "cell_type": "code",
   "execution_count": 12,
   "id": "ce44ce57",
   "metadata": {},
   "outputs": [
    {
     "data": {
      "text/plain": [
       "mediapipe.python.solution_base.SolutionOutputs"
      ]
     },
     "execution_count": 12,
     "metadata": {},
     "output_type": "execute_result"
    }
   ],
   "source": [
    "results"
   ]
  },
  {
   "cell_type": "code",
   "execution_count": 13,
   "id": "baba49db",
   "metadata": {},
   "outputs": [],
   "source": [
    "draw_landmarks(frame, results)"
   ]
  },
  {
   "cell_type": "code",
   "execution_count": 14,
   "id": "a9e4ff69",
   "metadata": {},
   "outputs": [
    {
     "data": {
      "text/plain": [
       "<matplotlib.image.AxesImage at 0x2a1bbb74ac0>"
      ]
     },
     "execution_count": 14,
     "metadata": {},
     "output_type": "execute_result"
    },
    {
     "data": {
      "image/png": "[encoded data removed]",
      "text/plain": [
       "<Figure size 432x288 with 1 Axes>"
      ]
     },
     "metadata": {
      "needs_background": "light"
     },
     "output_type": "display_data"
    }
   ],
   "source": [
    "plt.imshow(cv2.cvtColor(frame, cv2.COLOR_BGR2RGB))"
   ]
  },
  {
   "cell_type": "markdown",
   "id": "d730ab14",
   "metadata": {},
   "source": [
    "# Extract Keypoint Value"
   ]
  },
  {
   "cell_type": "code",
   "execution_count": 11,
   "id": "3d66bc23",
   "metadata": {},
   "outputs": [],
   "source": [
    "# we include the if else statement so that it wont get error if let say our right/left hand didnt detected\n",
    "# so we basically replace them with a blank array\n",
    "\n",
    "def extract_keypoints(results):\n",
    "    pose = np.array([[res.x, res.y, res.z, res.visibility] for res in results.pose_landmarks.landmark]).flatten() if results.pose_landmarks else np.zeros(33*4)\n",
    "    face = np.array([[res.x, res.y, res.z] for res in results.face_landmarks.landmark]).flatten() if results.face_landmarks else np.zeros(468*3)\n",
    "    lh = np.array([[res.x, res.y, res.z] for res in results.left_hand_landmarks.landmark]).flatten() if results.left_hand_landmarks else np.zeros(21*3)\n",
    "    rh = np.array([[res.x, res.y, res.z] for res in results.right_hand_landmarks.landmark]).flatten() if results.right_hand_landmarks else np.zeros(21*3) \n",
    "    return np.concatenate([pose, face, lh, rh])"
   ]
  },
  {
   "cell_type": "code",
   "execution_count": 16,
   "id": "630d532a",
   "metadata": {},
   "outputs": [
    {
     "data": {
      "text/plain": [
       "array([ 0.54190582,  0.46230477, -1.08468747, ...,  0.21824358,\n",
       "        0.31395563, -0.01934539])"
      ]
     },
     "execution_count": 16,
     "metadata": {},
     "output_type": "execute_result"
    }
   ],
   "source": [
    "extract_keypoints(results)"
   ]
  },
  {
   "cell_type": "code",
   "execution_count": 17,
   "id": "2c0c6448",
   "metadata": {},
   "outputs": [
    {
     "data": {
      "text/plain": [
       "(1662,)"
      ]
     },
     "execution_count": 17,
     "metadata": {},
     "output_type": "execute_result"
    }
   ],
   "source": [
    "extract_keypoints(results).shape"
   ]
  },
  {
   "cell_type": "code",
   "execution_count": 18,
   "id": "03391cf1",
   "metadata": {},
   "outputs": [
    {
     "data": {
      "text/plain": [
       "array([ 0.54190582,  0.46230477, -1.08468747,  0.99964583,  0.56784034,\n",
       "        0.40187871, -1.02154613,  0.99917108,  0.58423036,  0.40285227])"
      ]
     },
     "execution_count": 18,
     "metadata": {},
     "output_type": "execute_result"
    }
   ],
   "source": [
    "#checking value for the first 10 (indicate the pose value)\n",
    "extract_keypoints(results)[:10]"
   ]
  },
  {
   "cell_type": "code",
   "execution_count": 19,
   "id": "0b5d4860",
   "metadata": {},
   "outputs": [
    {
     "data": {
      "text/plain": [
       "array([ 0.54190582,  0.46230477, -1.08468747, ..., -0.02366633,\n",
       "        0.18305327,  0.44036716])"
      ]
     },
     "execution_count": 19,
     "metadata": {},
     "output_type": "execute_result"
    }
   ],
   "source": [
    "#chencking the value for the last 10 (indicate the Righ hand)\n",
    "extract_keypoints(results)[:-10]"
   ]
  },
  {
   "cell_type": "markdown",
   "id": "c3a9536f",
   "metadata": {},
   "source": [
    "# Setup Folders For Collection"
   ]
  },
  {
   "cell_type": "code",
   "execution_count": 20,
   "id": "bad42a97",
   "metadata": {},
   "outputs": [],
   "source": [
    "# Path for exported data, numpy arrays\n",
    "# storing the data (data_path)\n",
    "DATA_PATH = os.path.join('MP_Data') \n",
    "\n",
    "# Actions that we try to detect\n",
    "actions = np.array(['Hello', 'Thanks', 'ILoveYou'])\n",
    "\n",
    "# Thirty videos worth of data\n",
    "no_sequences = 30\n",
    "\n",
    "# Videos are going to be 30 frames in length\n",
    "sequence_length = 30\n",
    "\n",
    "# Folder start\n",
    "start_folder = 30"
   ]
  },
  {
   "cell_type": "markdown",
   "id": "999e1601",
   "metadata": {},
   "source": [
    "#creating folders for each of the data/actions"
   ]
  },
  {
   "cell_type": "code",
   "execution_count": 21,
   "id": "d3c4bc97",
   "metadata": {},
   "outputs": [],
   "source": [
    "#making directories of each collected data\n",
    "\n",
    "for action in actions: \n",
    "    \n",
    "    for sequence in range(no_sequences):\n",
    "        try: \n",
    "            os.makedirs(os.path.join(DATA_PATH, action, str(sequence)))\n",
    "        except:\n",
    "            pass"
   ]
  },
  {
   "cell_type": "markdown",
   "id": "a72f33d1",
   "metadata": {},
   "source": [
    "# Collecting Keypoint Values for Training and Testing"
   ]
  },
  {
   "cell_type": "code",
   "execution_count": 22,
   "id": "6fe7293a",
   "metadata": {},
   "outputs": [],
   "source": [
    "cap = cv2.VideoCapture(0)\n",
    "# Set mediapipe model \n",
    "with mp_holistic.Holistic(min_detection_confidence=0.5, min_tracking_confidence=0.5) as holistic:\n",
    "   \n",
    "    # NEW LOOP\n",
    "    # Loop through actions\n",
    "    for action in actions:\n",
    "        # Loop through sequences aka videos\n",
    "        for sequence in range(no_sequences):\n",
    "            # Loop through video length aka sequence length\n",
    "            for frame_num in range(sequence_length):\n",
    "\n",
    "               # Read feed\n",
    "                ret, frame = cap.read()\n",
    "\n",
    "                # Make detections\n",
    "                image, results = mediapipe_detection(frame, holistic)\n",
    "\n",
    "                # Draw landmarks\n",
    "                draw_styled_landmarks(image, results)\n",
    "                \n",
    "                # NEW Apply wait logic\n",
    "                \n",
    "                if frame_num == 0: \n",
    "                    cv2.putText(image, 'STARTING COLLECTION', (120,200), \n",
    "                               cv2.FONT_HERSHEY_SIMPLEX, 1, (0,255, 0), 4, cv2.LINE_AA)\n",
    "                    cv2.putText(image, 'Collecting frames for {} Video Number {}'.format(action, sequence), (15,12), \n",
    "                               cv2.FONT_HERSHEY_SIMPLEX, 0.5, (0, 0, 255), 1, cv2.LINE_AA)\n",
    "                    # Show to screen\n",
    "                    cv2.imshow('OpenCV Feed', image)\n",
    "                    cv2.waitKey(500)\n",
    "                else: \n",
    "                    cv2.putText(image, 'Collecting frames for {} Video Number {}'.format(action, sequence), (15,12), \n",
    "                               cv2.FONT_HERSHEY_SIMPLEX, 0.5, (0, 0, 255), 1, cv2.LINE_AA)\n",
    "                    \n",
    "                    # Show to screen\n",
    "                    cv2.imshow('OpenCV Feed', image)\n",
    "                \n",
    "                # NEW Export keypoints\n",
    "                keypoints = extract_keypoints(results)\n",
    "                npy_path = os.path.join(DATA_PATH, action, str(sequence), str(frame_num))\n",
    "                np.save(npy_path, keypoints)\n",
    "\n",
    "                # Break gracefully\n",
    "                if cv2.waitKey(10) & 0xFF == ord('q'):\n",
    "                    break\n",
    "                    \n",
    "    cap.release()\n",
    "    cv2.destroyAllWindows()"
   ]
  },
  {
   "cell_type": "markdown",
   "id": "59262da9",
   "metadata": {},
   "source": [
    "# Preprocess Data and Create Labels and Features"
   ]
  },
  {
   "cell_type": "code",
   "execution_count": 23,
   "id": "69b21cfe",
   "metadata": {
    "scrolled": true
   },
   "outputs": [],
   "source": [
    "label_map = {label:num for num, label in enumerate(actions)}"
   ]
  },
  {
   "cell_type": "code",
   "execution_count": 24,
   "id": "5816ef02",
   "metadata": {},
   "outputs": [
    {
     "data": {
      "text/plain": [
       "{'Hello': 0, 'Thanks': 1, 'ILoveYou': 2}"
      ]
     },
     "execution_count": 24,
     "metadata": {},
     "output_type": "execute_result"
    }
   ],
   "source": [
    "label_map"
   ]
  },
  {
   "cell_type": "code",
   "execution_count": 25,
   "id": "4014c16d",
   "metadata": {},
   "outputs": [],
   "source": [
    "sequences, labels = [], []\n",
    "for action in actions:\n",
    "    for sequence in np.array(os.listdir(os.path.join(DATA_PATH, action))).astype(int):\n",
    "        window = []\n",
    "        \n",
    "        # like saying hey grab frame zero add it to the window\n",
    "        for frame_num in range(sequence_length):\n",
    "            res = np.load(os.path.join(DATA_PATH, action, str(sequence), \"{}.npy\".format(frame_num)))\n",
    "            window.append(res)\n",
    "        sequences.append(window)\n",
    "        labels.append(label_map[action])"
   ]
  },
  {
   "cell_type": "code",
   "execution_count": 26,
   "id": "8e92694a",
   "metadata": {},
   "outputs": [
    {
     "data": {
      "text/plain": [
       "(90, 30, 1662)"
      ]
     },
     "execution_count": 26,
     "metadata": {},
     "output_type": "execute_result"
    }
   ],
   "source": [
    "# to show that we have 90 videos, each has 30 frames, each one of those has 1662 keypoints\n",
    "\n",
    "np.array(sequences).shape\n"
   ]
  },
  {
   "cell_type": "code",
   "execution_count": 27,
   "id": "d6ea5e84",
   "metadata": {},
   "outputs": [
    {
     "data": {
      "text/plain": [
       "(90,)"
      ]
     },
     "execution_count": 27,
     "metadata": {},
     "output_type": "execute_result"
    }
   ],
   "source": [
    "np.array(labels).shape"
   ]
  },
  {
   "cell_type": "code",
   "execution_count": 28,
   "id": "a1df1005",
   "metadata": {},
   "outputs": [],
   "source": [
    "X = np.array(sequences)"
   ]
  },
  {
   "cell_type": "code",
   "execution_count": 29,
   "id": "0209e55e",
   "metadata": {},
   "outputs": [
    {
     "data": {
      "text/plain": [
       "(90, 30, 1662)"
      ]
     },
     "execution_count": 29,
     "metadata": {},
     "output_type": "execute_result"
    }
   ],
   "source": [
    "X.shape"
   ]
  },
  {
   "cell_type": "code",
   "execution_count": 30,
   "id": "a2db47cd",
   "metadata": {},
   "outputs": [],
   "source": [
    "# changing our initial label to one encoded\n",
    "y = to_categorical(labels).astype(int)\n"
   ]
  },
  {
   "cell_type": "code",
   "execution_count": 31,
   "id": "5aec6a0a",
   "metadata": {
    "scrolled": true
   },
   "outputs": [
    {
     "data": {
      "text/plain": [
       "array([[1, 0, 0],\n",
       "       [1, 0, 0],\n",
       "       [1, 0, 0],\n",
       "       [1, 0, 0],\n",
       "       [1, 0, 0],\n",
       "       [1, 0, 0],\n",
       "       [1, 0, 0],\n",
       "       [1, 0, 0],\n",
       "       [1, 0, 0],\n",
       "       [1, 0, 0],\n",
       "       [1, 0, 0],\n",
       "       [1, 0, 0],\n",
       "       [1, 0, 0],\n",
       "       [1, 0, 0],\n",
       "       [1, 0, 0],\n",
       "       [1, 0, 0],\n",
       "       [1, 0, 0],\n",
       "       [1, 0, 0],\n",
       "       [1, 0, 0],\n",
       "       [1, 0, 0],\n",
       "       [1, 0, 0],\n",
       "       [1, 0, 0],\n",
       "       [1, 0, 0],\n",
       "       [1, 0, 0],\n",
       "       [1, 0, 0],\n",
       "       [1, 0, 0],\n",
       "       [1, 0, 0],\n",
       "       [1, 0, 0],\n",
       "       [1, 0, 0],\n",
       "       [1, 0, 0],\n",
       "       [0, 1, 0],\n",
       "       [0, 1, 0],\n",
       "       [0, 1, 0],\n",
       "       [0, 1, 0],\n",
       "       [0, 1, 0],\n",
       "       [0, 1, 0],\n",
       "       [0, 1, 0],\n",
       "       [0, 1, 0],\n",
       "       [0, 1, 0],\n",
       "       [0, 1, 0],\n",
       "       [0, 1, 0],\n",
       "       [0, 1, 0],\n",
       "       [0, 1, 0],\n",
       "       [0, 1, 0],\n",
       "       [0, 1, 0],\n",
       "       [0, 1, 0],\n",
       "       [0, 1, 0],\n",
       "       [0, 1, 0],\n",
       "       [0, 1, 0],\n",
       "       [0, 1, 0],\n",
       "       [0, 1, 0],\n",
       "       [0, 1, 0],\n",
       "       [0, 1, 0],\n",
       "       [0, 1, 0],\n",
       "       [0, 1, 0],\n",
       "       [0, 1, 0],\n",
       "       [0, 1, 0],\n",
       "       [0, 1, 0],\n",
       "       [0, 1, 0],\n",
       "       [0, 1, 0],\n",
       "       [0, 0, 1],\n",
       "       [0, 0, 1],\n",
       "       [0, 0, 1],\n",
       "       [0, 0, 1],\n",
       "       [0, 0, 1],\n",
       "       [0, 0, 1],\n",
       "       [0, 0, 1],\n",
       "       [0, 0, 1],\n",
       "       [0, 0, 1],\n",
       "       [0, 0, 1],\n",
       "       [0, 0, 1],\n",
       "       [0, 0, 1],\n",
       "       [0, 0, 1],\n",
       "       [0, 0, 1],\n",
       "       [0, 0, 1],\n",
       "       [0, 0, 1],\n",
       "       [0, 0, 1],\n",
       "       [0, 0, 1],\n",
       "       [0, 0, 1],\n",
       "       [0, 0, 1],\n",
       "       [0, 0, 1],\n",
       "       [0, 0, 1],\n",
       "       [0, 0, 1],\n",
       "       [0, 0, 1],\n",
       "       [0, 0, 1],\n",
       "       [0, 0, 1],\n",
       "       [0, 0, 1],\n",
       "       [0, 0, 1],\n",
       "       [0, 0, 1],\n",
       "       [0, 0, 1]])"
      ]
     },
     "execution_count": 31,
     "metadata": {},
     "output_type": "execute_result"
    }
   ],
   "source": [
    "y"
   ]
  },
  {
   "cell_type": "code",
   "execution_count": 32,
   "id": "441d5e81",
   "metadata": {},
   "outputs": [],
   "source": [
    "# performing a training and testing partition \n",
    "# test size would be 5% of the data\n",
    "X_train, X_test, y_train, y_test = train_test_split(X, y, test_size=0.2)\n"
   ]
  },
  {
   "cell_type": "code",
   "execution_count": 33,
   "id": "a41fdeae",
   "metadata": {},
   "outputs": [
    {
     "data": {
      "text/plain": [
       "(18, 30, 1662)"
      ]
     },
     "execution_count": 33,
     "metadata": {},
     "output_type": "execute_result"
    }
   ],
   "source": [
    "X_test.shape"
   ]
  },
  {
   "cell_type": "code",
   "execution_count": 34,
   "id": "209a3ac6",
   "metadata": {},
   "outputs": [
    {
     "data": {
      "text/plain": [
       "(72, 30, 1662)"
      ]
     },
     "execution_count": 34,
     "metadata": {},
     "output_type": "execute_result"
    }
   ],
   "source": [
    "X_train.shape"
   ]
  },
  {
   "cell_type": "markdown",
   "id": "f90edc24",
   "metadata": {},
   "source": [
    "# Building and Training LSTM Neural Network"
   ]
  },
  {
   "cell_type": "code",
   "execution_count": 67,
   "id": "fddbeead",
   "metadata": {},
   "outputs": [],
   "source": [
    "# allow us to perform some logging inside of tensorboard if we wanted to go and trace and monitor our model as its training"
   ]
  },
  {
   "cell_type": "code",
   "execution_count": 35,
   "id": "6064b49e",
   "metadata": {},
   "outputs": [],
   "source": [
    "model = Sequential()\n",
    "model.add(LSTM(64, return_sequences=True, activation='relu', input_shape=(30,1662)))\n",
    "model.add(LSTM(128, return_sequences=True, activation='relu'))\n",
    "model.add(LSTM(64, return_sequences=False, activation='relu'))\n",
    "model.add(Dense(64, activation='relu'))\n",
    "model.add(Dense(32, activation='relu'))\n",
    "model.add(Dense(actions.shape[0], activation='softmax'))\n",
    "\n",
    "# when using tensorflow with an lstm layer, if we're going to stack them together, \n",
    "# we need to return the sequences because the next layer is going to need those "
   ]
  },
  {
   "cell_type": "code",
   "execution_count": 36,
   "id": "47df0164",
   "metadata": {},
   "outputs": [],
   "source": [
    "# create a log directory and set up our tensorboard callbacks\n",
    "\n",
    "log_dir = os.path.join('Logs')\n",
    "tb_callback = TensorBoard(log_dir=log_dir)\n",
    "\n",
    "# allow us to monitor your neural network training and our model's accuracy as it's being trained"
   ]
  },
  {
   "cell_type": "code",
   "execution_count": 37,
   "id": "3c96fef6",
   "metadata": {},
   "outputs": [],
   "source": [
    "model.compile(optimizer='Adam', loss='categorical_crossentropy', metrics=['categorical_accuracy'])"
   ]
  },
  {
   "cell_type": "code",
   "execution_count": 45,
   "id": "6d3a6aed",
   "metadata": {},
   "outputs": [
    {
     "name": "stdout",
     "output_type": "stream",
     "text": [
      "Epoch 1/200\n",
      "3/3 [==============================] - 4s 43ms/step - loss: 2.1948 - categorical_accuracy: 0.3333\n",
      "Epoch 2/200\n",
      "3/3 [==============================] - 0s 40ms/step - loss: 1.2073 - categorical_accuracy: 0.4306\n",
      "Epoch 3/200\n",
      "3/3 [==============================] - 0s 40ms/step - loss: 6.5845 - categorical_accuracy: 0.2639\n",
      "Epoch 4/200\n",
      "3/3 [==============================] - 0s 36ms/step - loss: 7.5942 - categorical_accuracy: 0.2917\n",
      "Epoch 5/200\n",
      "3/3 [==============================] - 0s 36ms/step - loss: 62.6422 - categorical_accuracy: 0.3333\n",
      "Epoch 6/200\n",
      "3/3 [==============================] - 0s 36ms/step - loss: 53.4620 - categorical_accuracy: 0.3056\n",
      "Epoch 7/200\n",
      "3/3 [==============================] - 0s 40ms/step - loss: 53.4015 - categorical_accuracy: 0.3750\n",
      "Epoch 8/200\n",
      "3/3 [==============================] - 0s 45ms/step - loss: 25.8191 - categorical_accuracy: 0.3194\n",
      "Epoch 9/200\n",
      "3/3 [==============================] - 0s 36ms/step - loss: 17.0336 - categorical_accuracy: 0.2778\n",
      "Epoch 10/200\n",
      "3/3 [==============================] - 0s 36ms/step - loss: 54.8556 - categorical_accuracy: 0.3611\n",
      "Epoch 11/200\n",
      "3/3 [==============================] - 0s 40ms/step - loss: 35.4067 - categorical_accuracy: 0.2500\n",
      "Epoch 12/200\n",
      "3/3 [==============================] - 0s 45ms/step - loss: 36.9793 - categorical_accuracy: 0.4167\n",
      "Epoch 13/200\n",
      "3/3 [==============================] - 0s 36ms/step - loss: 33.2370 - categorical_accuracy: 0.2639\n",
      "Epoch 14/200\n",
      "3/3 [==============================] - 0s 45ms/step - loss: 39.4551 - categorical_accuracy: 0.4167\n",
      "Epoch 15/200\n",
      "3/3 [==============================] - 0s 36ms/step - loss: 126.9735 - categorical_accuracy: 0.2500\n",
      "Epoch 16/200\n",
      "3/3 [==============================] - 0s 36ms/step - loss: 99.3910 - categorical_accuracy: 0.2778\n",
      "Epoch 17/200\n",
      "3/3 [==============================] - 0s 40ms/step - loss: 111.3647 - categorical_accuracy: 0.3750\n",
      "Epoch 18/200\n",
      "3/3 [==============================] - 0s 45ms/step - loss: 54.4184 - categorical_accuracy: 0.4444\n",
      "Epoch 19/200\n",
      "3/3 [==============================] - 0s 50ms/step - loss: 62.8782 - categorical_accuracy: 0.3056\n",
      "Epoch 20/200\n",
      "3/3 [==============================] - 0s 51ms/step - loss: 52.9190 - categorical_accuracy: 0.2639\n",
      "Epoch 21/200\n",
      "3/3 [==============================] - 0s 39ms/step - loss: 34.2424 - categorical_accuracy: 0.3889\n",
      "Epoch 22/200\n",
      "3/3 [==============================] - 0s 45ms/step - loss: 18.7212 - categorical_accuracy: 0.4583\n",
      "Epoch 23/200\n",
      "3/3 [==============================] - 0s 40ms/step - loss: 31.9963 - categorical_accuracy: 0.4028\n",
      "Epoch 24/200\n",
      "3/3 [==============================] - 0s 50ms/step - loss: 137.2695 - categorical_accuracy: 0.3889\n",
      "Epoch 25/200\n",
      "3/3 [==============================] - 0s 49ms/step - loss: 145.0828 - categorical_accuracy: 0.5139\n",
      "Epoch 26/200\n",
      "3/3 [==============================] - 0s 36ms/step - loss: 200.3681 - categorical_accuracy: 0.3750\n",
      "Epoch 27/200\n",
      "3/3 [==============================] - 0s 45ms/step - loss: 298.6053 - categorical_accuracy: 0.2778\n",
      "Epoch 28/200\n",
      "3/3 [==============================] - 0s 36ms/step - loss: 434.2544 - categorical_accuracy: 0.2639\n",
      "Epoch 29/200\n",
      "3/3 [==============================] - 0s 40ms/step - loss: 451.5630 - categorical_accuracy: 0.3194\n",
      "Epoch 30/200\n",
      "3/3 [==============================] - 0s 46ms/step - loss: 113.9069 - categorical_accuracy: 0.5000\n",
      "Epoch 31/200\n",
      "3/3 [==============================] - 0s 36ms/step - loss: 176.3252 - categorical_accuracy: 0.2083\n",
      "Epoch 32/200\n",
      "3/3 [==============================] - 0s 45ms/step - loss: 143.9962 - categorical_accuracy: 0.4861\n",
      "Epoch 33/200\n",
      "3/3 [==============================] - 0s 51ms/step - loss: 193.6642 - categorical_accuracy: 0.2083\n",
      "Epoch 34/200\n",
      "3/3 [==============================] - 0s 51ms/step - loss: 134.5748 - categorical_accuracy: 0.3333\n",
      "Epoch 35/200\n",
      "3/3 [==============================] - 0s 39ms/step - loss: 339.0756 - categorical_accuracy: 0.2778\n",
      "Epoch 36/200\n",
      "3/3 [==============================] - 0s 51ms/step - loss: 420.8725 - categorical_accuracy: 0.3194\n",
      "Epoch 37/200\n",
      "3/3 [==============================] - 0s 55ms/step - loss: 646.5002 - categorical_accuracy: 0.3472\n",
      "Epoch 38/200\n",
      "3/3 [==============================] - 0s 52ms/step - loss: 373.6044 - categorical_accuracy: 0.4583\n",
      "Epoch 39/200\n",
      "3/3 [==============================] - 0s 48ms/step - loss: 80.6891 - categorical_accuracy: 0.4167\n",
      "Epoch 40/200\n",
      "3/3 [==============================] - 0s 40ms/step - loss: 52.9561 - categorical_accuracy: 0.3472\n",
      "Epoch 41/200\n",
      "3/3 [==============================] - 0s 45ms/step - loss: 37.4901 - categorical_accuracy: 0.4861\n",
      "Epoch 42/200\n",
      "3/3 [==============================] - 0s 40ms/step - loss: 47.0193 - categorical_accuracy: 0.2639\n",
      "Epoch 43/200\n",
      "3/3 [==============================] - 0s 40ms/step - loss: 36.8290 - categorical_accuracy: 0.3472\n",
      "Epoch 44/200\n",
      "3/3 [==============================] - 0s 45ms/step - loss: 30.4695 - categorical_accuracy: 0.3472\n",
      "Epoch 45/200\n",
      "3/3 [==============================] - 0s 40ms/step - loss: 21.7917 - categorical_accuracy: 0.2361\n",
      "Epoch 46/200\n",
      "3/3 [==============================] - 0s 36ms/step - loss: 24.3034 - categorical_accuracy: 0.3472\n",
      "Epoch 47/200\n",
      "3/3 [==============================] - 0s 51ms/step - loss: 16.5876 - categorical_accuracy: 0.4722\n",
      "Epoch 48/200\n",
      "3/3 [==============================] - 0s 52ms/step - loss: 14.5386 - categorical_accuracy: 0.2222\n",
      "Epoch 49/200\n",
      "3/3 [==============================] - 0s 38ms/step - loss: 8.4022 - categorical_accuracy: 0.4583\n",
      "Epoch 50/200\n",
      "3/3 [==============================] - 0s 45ms/step - loss: 10.9460 - categorical_accuracy: 0.3750\n",
      "Epoch 51/200\n",
      "3/3 [==============================] - 0s 45ms/step - loss: 13.7537 - categorical_accuracy: 0.4028\n",
      "Epoch 52/200\n",
      "3/3 [==============================] - 0s 45ms/step - loss: 36.8228 - categorical_accuracy: 0.3472\n",
      "Epoch 53/200\n",
      "3/3 [==============================] - 0s 45ms/step - loss: 22.8259 - categorical_accuracy: 0.3333\n",
      "Epoch 54/200\n",
      "3/3 [==============================] - 0s 41ms/step - loss: 31.3459 - categorical_accuracy: 0.3056\n",
      "Epoch 55/200\n",
      "3/3 [==============================] - 0s 40ms/step - loss: 30.8424 - categorical_accuracy: 0.3194\n",
      "Epoch 56/200\n",
      "3/3 [==============================] - 0s 44ms/step - loss: 85.5350 - categorical_accuracy: 0.2917\n",
      "Epoch 57/200\n",
      "3/3 [==============================] - 0s 40ms/step - loss: 115.2954 - categorical_accuracy: 0.2222\n",
      "Epoch 58/200\n",
      "3/3 [==============================] - 0s 40ms/step - loss: 54.2684 - categorical_accuracy: 0.3750\n",
      "Epoch 59/200\n",
      "3/3 [==============================] - 0s 39ms/step - loss: 26.9569 - categorical_accuracy: 0.4028\n",
      "Epoch 60/200\n",
      "3/3 [==============================] - 0s 40ms/step - loss: 62.4201 - categorical_accuracy: 0.1528\n",
      "Epoch 61/200\n",
      "3/3 [==============================] - 0s 44ms/step - loss: 34.8266 - categorical_accuracy: 0.3472\n",
      "Epoch 62/200\n",
      "3/3 [==============================] - 0s 48ms/step - loss: 8.3361 - categorical_accuracy: 0.1806\n",
      "Epoch 63/200\n",
      "3/3 [==============================] - 0s 55ms/step - loss: 4.6398 - categorical_accuracy: 0.2778\n",
      "Epoch 64/200\n",
      "3/3 [==============================] - 0s 44ms/step - loss: 4.8372 - categorical_accuracy: 0.3611\n",
      "Epoch 65/200\n",
      "3/3 [==============================] - 0s 41ms/step - loss: 3.0265 - categorical_accuracy: 0.3472\n",
      "Epoch 66/200\n",
      "3/3 [==============================] - 0s 39ms/step - loss: 3.5692 - categorical_accuracy: 0.3333\n",
      "Epoch 67/200\n",
      "3/3 [==============================] - 0s 40ms/step - loss: 1.8868 - categorical_accuracy: 0.4861\n",
      "Epoch 68/200\n",
      "3/3 [==============================] - 0s 52ms/step - loss: 2.2766 - categorical_accuracy: 0.2361\n",
      "Epoch 69/200\n",
      "3/3 [==============================] - 0s 46ms/step - loss: 2.0190 - categorical_accuracy: 0.4583\n",
      "Epoch 70/200\n",
      "3/3 [==============================] - 0s 37ms/step - loss: 32.2523 - categorical_accuracy: 0.3333\n",
      "Epoch 71/200\n",
      "3/3 [==============================] - 0s 49ms/step - loss: 28.3336 - categorical_accuracy: 0.4028\n",
      "Epoch 72/200\n",
      "3/3 [==============================] - 0s 53ms/step - loss: 12.5569 - categorical_accuracy: 0.3194\n",
      "Epoch 73/200\n",
      "3/3 [==============================] - 0s 47ms/step - loss: 4.4033 - categorical_accuracy: 0.3056\n",
      "Epoch 74/200\n",
      "3/3 [==============================] - 0s 48ms/step - loss: 9.4361 - categorical_accuracy: 0.2361\n",
      "Epoch 75/200\n",
      "3/3 [==============================] - 0s 53ms/step - loss: 9.8667 - categorical_accuracy: 0.2917\n",
      "Epoch 76/200\n",
      "3/3 [==============================] - 0s 48ms/step - loss: 26.7449 - categorical_accuracy: 0.3611\n",
      "Epoch 77/200\n",
      "3/3 [==============================] - 0s 43ms/step - loss: 15.4285 - categorical_accuracy: 0.3889\n",
      "Epoch 78/200\n",
      "3/3 [==============================] - 0s 41ms/step - loss: 31.2367 - categorical_accuracy: 0.4028\n",
      "Epoch 79/200\n",
      "3/3 [==============================] - 0s 41ms/step - loss: 43.0332 - categorical_accuracy: 0.3056\n",
      "Epoch 80/200\n",
      "3/3 [==============================] - 0s 42ms/step - loss: 59.2756 - categorical_accuracy: 0.3750\n",
      "Epoch 81/200\n",
      "3/3 [==============================] - 0s 42ms/step - loss: 39.2675 - categorical_accuracy: 0.2500\n",
      "Epoch 82/200\n",
      "3/3 [==============================] - 0s 42ms/step - loss: 26.9596 - categorical_accuracy: 0.3194\n",
      "Epoch 83/200\n",
      "3/3 [==============================] - 0s 45ms/step - loss: 18.9222 - categorical_accuracy: 0.5278\n",
      "Epoch 84/200\n",
      "3/3 [==============================] - 0s 42ms/step - loss: 41.8207 - categorical_accuracy: 0.3750\n",
      "Epoch 85/200\n",
      "3/3 [==============================] - 0s 40ms/step - loss: 25.0122 - categorical_accuracy: 0.4444\n",
      "Epoch 86/200\n",
      "3/3 [==============================] - 0s 48ms/step - loss: 38.6768 - categorical_accuracy: 0.2917\n",
      "Epoch 87/200\n",
      "3/3 [==============================] - 0s 49ms/step - loss: 12.1597 - categorical_accuracy: 0.3750\n",
      "Epoch 88/200\n",
      "3/3 [==============================] - 0s 47ms/step - loss: 12.2669 - categorical_accuracy: 0.2778\n",
      "Epoch 89/200\n",
      "3/3 [==============================] - 0s 38ms/step - loss: 11.3866 - categorical_accuracy: 0.2917\n",
      "Epoch 90/200\n",
      "3/3 [==============================] - 0s 36ms/step - loss: 12.3904 - categorical_accuracy: 0.2222\n",
      "Epoch 91/200\n",
      "3/3 [==============================] - 0s 36ms/step - loss: 14.2932 - categorical_accuracy: 0.3333\n",
      "Epoch 92/200\n",
      "3/3 [==============================] - 0s 52ms/step - loss: 18.7231 - categorical_accuracy: 0.2639\n",
      "Epoch 93/200\n",
      "3/3 [==============================] - 0s 41ms/step - loss: 12.7987 - categorical_accuracy: 0.2917\n",
      "Epoch 94/200\n",
      "3/3 [==============================] - 0s 42ms/step - loss: 7.8365 - categorical_accuracy: 0.2917\n",
      "Epoch 95/200\n",
      "3/3 [==============================] - 0s 44ms/step - loss: 7.4281 - categorical_accuracy: 0.2500\n",
      "Epoch 96/200\n",
      "3/3 [==============================] - 0s 40ms/step - loss: 8.0720 - categorical_accuracy: 0.3333\n",
      "Epoch 97/200\n",
      "3/3 [==============================] - 0s 38ms/step - loss: 9.2813 - categorical_accuracy: 0.2917\n",
      "Epoch 98/200\n",
      "3/3 [==============================] - 0s 51ms/step - loss: 13.8288 - categorical_accuracy: 0.2917\n",
      "Epoch 99/200\n",
      "3/3 [==============================] - 0s 43ms/step - loss: 5.5720 - categorical_accuracy: 0.3611\n",
      "Epoch 100/200\n",
      "3/3 [==============================] - 0s 50ms/step - loss: 10.1301 - categorical_accuracy: 0.2778\n",
      "Epoch 101/200\n",
      "3/3 [==============================] - 0s 44ms/step - loss: 12.2215 - categorical_accuracy: 0.3056\n",
      "Epoch 102/200\n",
      "3/3 [==============================] - 0s 38ms/step - loss: 11.1991 - categorical_accuracy: 0.3194\n",
      "Epoch 103/200\n",
      "3/3 [==============================] - 0s 45ms/step - loss: 11.9329 - categorical_accuracy: 0.2222\n",
      "Epoch 104/200\n",
      "3/3 [==============================] - 0s 51ms/step - loss: 14.6661 - categorical_accuracy: 0.1944\n",
      "Epoch 105/200\n",
      "3/3 [==============================] - 0s 47ms/step - loss: 9.4301 - categorical_accuracy: 0.1389\n",
      "Epoch 106/200\n",
      "3/3 [==============================] - 0s 45ms/step - loss: 12.5499 - categorical_accuracy: 0.2639\n",
      "Epoch 107/200\n",
      "3/3 [==============================] - 0s 44ms/step - loss: 14.9358 - categorical_accuracy: 0.1806\n",
      "Epoch 108/200\n",
      "3/3 [==============================] - 0s 42ms/step - loss: 11.7445 - categorical_accuracy: 0.1806\n",
      "Epoch 109/200\n",
      "3/3 [==============================] - 0s 44ms/step - loss: 7.1282 - categorical_accuracy: 0.2778\n",
      "Epoch 110/200\n",
      "3/3 [==============================] - 0s 49ms/step - loss: 6.1354 - categorical_accuracy: 0.2361\n",
      "Epoch 111/200\n",
      "3/3 [==============================] - 0s 45ms/step - loss: 5.7421 - categorical_accuracy: 0.3750\n",
      "Epoch 112/200\n",
      "3/3 [==============================] - 0s 51ms/step - loss: 6.7758 - categorical_accuracy: 0.3333\n",
      "Epoch 113/200\n",
      "3/3 [==============================] - 0s 41ms/step - loss: 6.9532 - categorical_accuracy: 0.4028\n",
      "Epoch 114/200\n",
      "3/3 [==============================] - 0s 45ms/step - loss: 5.6198 - categorical_accuracy: 0.2639\n",
      "Epoch 115/200\n",
      "3/3 [==============================] - 0s 40ms/step - loss: 3.4951 - categorical_accuracy: 0.3889\n",
      "Epoch 116/200\n",
      "3/3 [==============================] - 0s 43ms/step - loss: 4.6870 - categorical_accuracy: 0.3333\n",
      "Epoch 117/200\n",
      "3/3 [==============================] - 0s 39ms/step - loss: 2.8820 - categorical_accuracy: 0.3472\n",
      "Epoch 118/200\n",
      "3/3 [==============================] - 0s 41ms/step - loss: 2.8598 - categorical_accuracy: 0.3472\n",
      "Epoch 119/200\n",
      "3/3 [==============================] - 0s 44ms/step - loss: 2.7299 - categorical_accuracy: 0.4167\n",
      "Epoch 120/200\n",
      "3/3 [==============================] - 0s 44ms/step - loss: 2.5594 - categorical_accuracy: 0.3333\n",
      "Epoch 121/200\n",
      "3/3 [==============================] - 0s 45ms/step - loss: 4.7299 - categorical_accuracy: 0.3472\n",
      "Epoch 122/200\n",
      "3/3 [==============================] - 0s 44ms/step - loss: 5.0761 - categorical_accuracy: 0.3889\n",
      "Epoch 123/200\n",
      "3/3 [==============================] - 0s 44ms/step - loss: 3.5580 - categorical_accuracy: 0.4583\n",
      "Epoch 124/200\n",
      "3/3 [==============================] - 0s 45ms/step - loss: 3.1311 - categorical_accuracy: 0.3611\n",
      "Epoch 125/200\n",
      "3/3 [==============================] - 0s 45ms/step - loss: 4.8287 - categorical_accuracy: 0.3750\n",
      "Epoch 126/200\n",
      "3/3 [==============================] - 0s 48ms/step - loss: 6.0190 - categorical_accuracy: 0.3889\n",
      "Epoch 127/200\n",
      "3/3 [==============================] - 0s 42ms/step - loss: 3.3658 - categorical_accuracy: 0.5417\n",
      "Epoch 128/200\n",
      "3/3 [==============================] - 0s 40ms/step - loss: 7.2857 - categorical_accuracy: 0.4167\n",
      "Epoch 129/200\n",
      "3/3 [==============================] - 0s 36ms/step - loss: 8.2591 - categorical_accuracy: 0.3889\n",
      "Epoch 130/200\n",
      "3/3 [==============================] - 0s 46ms/step - loss: 4.1986 - categorical_accuracy: 0.3333\n",
      "Epoch 131/200\n",
      "3/3 [==============================] - 0s 45ms/step - loss: 8.1476 - categorical_accuracy: 0.4028\n",
      "Epoch 132/200\n",
      "3/3 [==============================] - 0s 39ms/step - loss: 3.3335 - categorical_accuracy: 0.5556\n",
      "Epoch 133/200\n",
      "3/3 [==============================] - 0s 37ms/step - loss: 6.9324 - categorical_accuracy: 0.3889\n",
      "Epoch 134/200\n",
      "3/3 [==============================] - 0s 44ms/step - loss: 8.0700 - categorical_accuracy: 0.4167\n",
      "Epoch 135/200\n",
      "3/3 [==============================] - 0s 49ms/step - loss: 3.9741 - categorical_accuracy: 0.4444\n",
      "Epoch 136/200\n",
      "3/3 [==============================] - 0s 42ms/step - loss: 6.3264 - categorical_accuracy: 0.3611\n",
      "Epoch 137/200\n",
      "3/3 [==============================] - 0s 45ms/step - loss: 3.7244 - categorical_accuracy: 0.4861\n",
      "Epoch 138/200\n",
      "3/3 [==============================] - 0s 47ms/step - loss: 2.0941 - categorical_accuracy: 0.5972\n",
      "Epoch 139/200\n",
      "3/3 [==============================] - 0s 47ms/step - loss: 2.6649 - categorical_accuracy: 0.5556\n",
      "Epoch 140/200\n",
      "3/3 [==============================] - 0s 48ms/step - loss: 2.2941 - categorical_accuracy: 0.5000\n",
      "Epoch 141/200\n",
      "3/3 [==============================] - 0s 51ms/step - loss: 2.3966 - categorical_accuracy: 0.4722\n",
      "Epoch 142/200\n",
      "3/3 [==============================] - 0s 40ms/step - loss: 1.2381 - categorical_accuracy: 0.6667\n",
      "Epoch 143/200\n",
      "3/3 [==============================] - 0s 44ms/step - loss: 2.8274 - categorical_accuracy: 0.6111\n",
      "Epoch 144/200\n",
      "3/3 [==============================] - 0s 43ms/step - loss: 2.3983 - categorical_accuracy: 0.5417\n",
      "Epoch 145/200\n",
      "3/3 [==============================] - 0s 48ms/step - loss: 1.6318 - categorical_accuracy: 0.6250\n",
      "Epoch 146/200\n",
      "3/3 [==============================] - 0s 43ms/step - loss: 1.0432 - categorical_accuracy: 0.7083\n",
      "Epoch 147/200\n"
     ]
    },
    {
     "name": "stdout",
     "output_type": "stream",
     "text": [
      "3/3 [==============================] - 0s 44ms/step - loss: 1.1869 - categorical_accuracy: 0.6806\n",
      "Epoch 148/200\n",
      "3/3 [==============================] - 0s 43ms/step - loss: 1.0547 - categorical_accuracy: 0.6806\n",
      "Epoch 149/200\n",
      "3/3 [==============================] - 0s 42ms/step - loss: 0.9817 - categorical_accuracy: 0.7361\n",
      "Epoch 150/200\n",
      "3/3 [==============================] - 0s 50ms/step - loss: 1.1681 - categorical_accuracy: 0.6250\n",
      "Epoch 151/200\n",
      "3/3 [==============================] - 0s 40ms/step - loss: 0.8915 - categorical_accuracy: 0.7083\n",
      "Epoch 152/200\n",
      "3/3 [==============================] - 0s 44ms/step - loss: 0.8663 - categorical_accuracy: 0.7778\n",
      "Epoch 153/200\n",
      "3/3 [==============================] - 0s 37ms/step - loss: 0.8948 - categorical_accuracy: 0.6806\n",
      "Epoch 154/200\n",
      "3/3 [==============================] - 0s 39ms/step - loss: 0.5469 - categorical_accuracy: 0.8611\n",
      "Epoch 155/200\n",
      "3/3 [==============================] - 0s 44ms/step - loss: 0.5400 - categorical_accuracy: 0.8333\n",
      "Epoch 156/200\n",
      "3/3 [==============================] - 0s 40ms/step - loss: 0.5890 - categorical_accuracy: 0.8056\n",
      "Epoch 157/200\n",
      "3/3 [==============================] - 0s 47ms/step - loss: 0.8359 - categorical_accuracy: 0.7083\n",
      "Epoch 158/200\n",
      "3/3 [==============================] - 0s 44ms/step - loss: 0.8684 - categorical_accuracy: 0.7361\n",
      "Epoch 159/200\n",
      "3/3 [==============================] - 0s 39ms/step - loss: 0.9655 - categorical_accuracy: 0.7639\n",
      "Epoch 160/200\n",
      "3/3 [==============================] - 0s 44ms/step - loss: 1.6056 - categorical_accuracy: 0.6944\n",
      "Epoch 161/200\n",
      "3/3 [==============================] - 0s 36ms/step - loss: 0.9136 - categorical_accuracy: 0.6389\n",
      "Epoch 162/200\n",
      "3/3 [==============================] - 0s 47ms/step - loss: 0.9525 - categorical_accuracy: 0.6944\n",
      "Epoch 163/200\n",
      "3/3 [==============================] - 0s 35ms/step - loss: 1.5018 - categorical_accuracy: 0.7083\n",
      "Epoch 164/200\n",
      "3/3 [==============================] - 0s 41ms/step - loss: 1.3394 - categorical_accuracy: 0.4861\n",
      "Epoch 165/200\n",
      "3/3 [==============================] - 0s 39ms/step - loss: 2.7312 - categorical_accuracy: 0.6944\n",
      "Epoch 166/200\n",
      "3/3 [==============================] - 0s 38ms/step - loss: 1.5608 - categorical_accuracy: 0.6389\n",
      "Epoch 167/200\n",
      "3/3 [==============================] - 0s 45ms/step - loss: 1.0054 - categorical_accuracy: 0.7083\n",
      "Epoch 168/200\n",
      "3/3 [==============================] - 0s 38ms/step - loss: 0.5322 - categorical_accuracy: 0.8056\n",
      "Epoch 169/200\n",
      "3/3 [==============================] - 0s 40ms/step - loss: 1.7694 - categorical_accuracy: 0.7083\n",
      "Epoch 170/200\n",
      "3/3 [==============================] - 0s 49ms/step - loss: 1.1698 - categorical_accuracy: 0.6667\n",
      "Epoch 171/200\n",
      "3/3 [==============================] - 0s 45ms/step - loss: 1.9578 - categorical_accuracy: 0.6806\n",
      "Epoch 172/200\n",
      "3/3 [==============================] - 0s 40ms/step - loss: 0.6943 - categorical_accuracy: 0.7917\n",
      "Epoch 173/200\n",
      "3/3 [==============================] - 0s 45ms/step - loss: 0.6573 - categorical_accuracy: 0.7917\n",
      "Epoch 174/200\n",
      "3/3 [==============================] - 0s 48ms/step - loss: 0.7006 - categorical_accuracy: 0.7500\n",
      "Epoch 175/200\n",
      "3/3 [==============================] - 0s 46ms/step - loss: 1.7634 - categorical_accuracy: 0.6806\n",
      "Epoch 176/200\n",
      "3/3 [==============================] - 0s 40ms/step - loss: 1.1300 - categorical_accuracy: 0.6250\n",
      "Epoch 177/200\n",
      "3/3 [==============================] - 0s 44ms/step - loss: 0.7194 - categorical_accuracy: 0.7917\n",
      "Epoch 178/200\n",
      "3/3 [==============================] - 0s 44ms/step - loss: 0.7277 - categorical_accuracy: 0.6944\n",
      "Epoch 179/200\n",
      "3/3 [==============================] - 0s 43ms/step - loss: 0.3872 - categorical_accuracy: 0.8611\n",
      "Epoch 180/200\n",
      "3/3 [==============================] - 0s 45ms/step - loss: 0.4968 - categorical_accuracy: 0.8472\n",
      "Epoch 181/200\n",
      "3/3 [==============================] - 0s 43ms/step - loss: 0.4000 - categorical_accuracy: 0.8750\n",
      "Epoch 182/200\n",
      "3/3 [==============================] - 0s 42ms/step - loss: 0.4988 - categorical_accuracy: 0.8472\n",
      "Epoch 183/200\n",
      "3/3 [==============================] - 0s 45ms/step - loss: 0.4898 - categorical_accuracy: 0.8611\n",
      "Epoch 184/200\n",
      "3/3 [==============================] - 0s 50ms/step - loss: 0.4759 - categorical_accuracy: 0.8611\n",
      "Epoch 185/200\n",
      "3/3 [==============================] - 0s 44ms/step - loss: 0.3419 - categorical_accuracy: 0.8750\n",
      "Epoch 186/200\n",
      "3/3 [==============================] - 0s 40ms/step - loss: 0.3385 - categorical_accuracy: 0.8750\n",
      "Epoch 187/200\n",
      "3/3 [==============================] - 0s 50ms/step - loss: 0.2988 - categorical_accuracy: 0.9028\n",
      "Epoch 188/200\n",
      "3/3 [==============================] - 0s 45ms/step - loss: 0.3419 - categorical_accuracy: 0.8889\n",
      "Epoch 189/200\n",
      "3/3 [==============================] - 0s 47ms/step - loss: 0.4381 - categorical_accuracy: 0.8333\n",
      "Epoch 190/200\n",
      "3/3 [==============================] - 0s 44ms/step - loss: 0.2854 - categorical_accuracy: 0.9028\n",
      "Epoch 191/200\n",
      "3/3 [==============================] - 0s 42ms/step - loss: 0.2520 - categorical_accuracy: 0.9028\n",
      "Epoch 192/200\n",
      "3/3 [==============================] - 0s 46ms/step - loss: 0.2626 - categorical_accuracy: 0.9167\n",
      "Epoch 193/200\n",
      "3/3 [==============================] - 0s 46ms/step - loss: 0.3500 - categorical_accuracy: 0.9028\n",
      "Epoch 194/200\n",
      "3/3 [==============================] - 0s 45ms/step - loss: 0.2529 - categorical_accuracy: 0.9167\n",
      "Epoch 195/200\n",
      "3/3 [==============================] - 0s 44ms/step - loss: 0.3259 - categorical_accuracy: 0.9028\n",
      "Epoch 196/200\n",
      "3/3 [==============================] - 0s 43ms/step - loss: 0.2838 - categorical_accuracy: 0.9028\n",
      "Epoch 197/200\n",
      "3/3 [==============================] - 0s 47ms/step - loss: 0.2956 - categorical_accuracy: 0.9028\n",
      "Epoch 198/200\n",
      "3/3 [==============================] - 0s 47ms/step - loss: 0.2723 - categorical_accuracy: 0.8611\n",
      "Epoch 199/200\n",
      "3/3 [==============================] - 0s 49ms/step - loss: 0.2040 - categorical_accuracy: 0.9306\n",
      "Epoch 200/200\n",
      "3/3 [==============================] - 0s 48ms/step - loss: 0.1974 - categorical_accuracy: 0.9028\n"
     ]
    },
    {
     "data": {
      "text/plain": [
       "<keras.callbacks.History at 0x2a1cc1d5fd0>"
      ]
     },
     "execution_count": 45,
     "metadata": {},
     "output_type": "execute_result"
    }
   ],
   "source": [
    "model.fit(X_train, y_train, epochs=200, callbacks=[tb_callback])"
   ]
  },
  {
   "cell_type": "code",
   "execution_count": 46,
   "id": "f7abb41e",
   "metadata": {},
   "outputs": [
    {
     "name": "stdout",
     "output_type": "stream",
     "text": [
      "Model: \"sequential\"\n",
      "_________________________________________________________________\n",
      " Layer (type)                Output Shape              Param #   \n",
      "=================================================================\n",
      " lstm (LSTM)                 (None, 30, 64)            442112    \n",
      "                                                                 \n",
      " lstm_1 (LSTM)               (None, 30, 128)           98816     \n",
      "                                                                 \n",
      " lstm_2 (LSTM)               (None, 64)                49408     \n",
      "                                                                 \n",
      " dense (Dense)               (None, 64)                4160      \n",
      "                                                                 \n",
      " dense_1 (Dense)             (None, 32)                2080      \n",
      "                                                                 \n",
      " dense_2 (Dense)             (None, 3)                 99        \n",
      "                                                                 \n",
      "=================================================================\n",
      "Total params: 596,675\n",
      "Trainable params: 596,675\n",
      "Non-trainable params: 0\n",
      "_________________________________________________________________\n"
     ]
    }
   ],
   "source": [
    "model.summary()"
   ]
  },
  {
   "cell_type": "markdown",
   "id": "0cbe6cb9",
   "metadata": {},
   "source": [
    "# Make predictions"
   ]
  },
  {
   "cell_type": "code",
   "execution_count": 47,
   "id": "efdf13da",
   "metadata": {},
   "outputs": [
    {
     "name": "stdout",
     "output_type": "stream",
     "text": [
      "1/1 [==============================] - 0s 362ms/step\n"
     ]
    }
   ],
   "source": [
    "res = model.predict(X_test)"
   ]
  },
  {
   "cell_type": "code",
   "execution_count": 48,
   "id": "51ceb64d",
   "metadata": {},
   "outputs": [
    {
     "data": {
      "text/plain": [
       "'Hello'"
      ]
     },
     "execution_count": 48,
     "metadata": {},
     "output_type": "execute_result"
    }
   ],
   "source": [
    "actions[np.argmax(res[4])]"
   ]
  },
  {
   "cell_type": "code",
   "execution_count": 49,
   "id": "b3f9c968",
   "metadata": {},
   "outputs": [
    {
     "data": {
      "text/plain": [
       "'Hello'"
      ]
     },
     "execution_count": 49,
     "metadata": {},
     "output_type": "execute_result"
    }
   ],
   "source": [
    "actions[np.argmax(y_test[4])]"
   ]
  },
  {
   "cell_type": "code",
   "execution_count": 50,
   "id": "a2655e74",
   "metadata": {},
   "outputs": [],
   "source": [
    "#save weights\n",
    "\n",
    "model.save('action.h5')"
   ]
  },
  {
   "cell_type": "markdown",
   "id": "2b4447fe",
   "metadata": {},
   "source": [
    "# Evaluation Using Confusing Matrix"
   ]
  },
  {
   "cell_type": "code",
   "execution_count": 51,
   "id": "e39e0286",
   "metadata": {},
   "outputs": [],
   "source": [
    "from sklearn.metrics import multilabel_confusion_matrix, accuracy_score"
   ]
  },
  {
   "cell_type": "code",
   "execution_count": 52,
   "id": "1bcc6967",
   "metadata": {},
   "outputs": [
    {
     "name": "stdout",
     "output_type": "stream",
     "text": [
      "3/3 [==============================] - 0s 20ms/step\n"
     ]
    }
   ],
   "source": [
    "yhat = model.predict(X_train)"
   ]
  },
  {
   "cell_type": "code",
   "execution_count": 53,
   "id": "fc654979",
   "metadata": {},
   "outputs": [],
   "source": [
    "ytrue = np.argmax(y_train, axis=1).tolist()\n",
    "yhat = np.argmax(yhat, axis=1).tolist()"
   ]
  },
  {
   "cell_type": "code",
   "execution_count": 54,
   "id": "dc3edcb4",
   "metadata": {
    "scrolled": true
   },
   "outputs": [
    {
     "data": {
      "text/plain": [
       "array([[[48,  2],\n",
       "        [ 2, 20]],\n",
       "\n",
       "       [[46,  2],\n",
       "        [ 2, 22]],\n",
       "\n",
       "       [[46,  0],\n",
       "        [ 0, 26]]], dtype=int64)"
      ]
     },
     "execution_count": 54,
     "metadata": {},
     "output_type": "execute_result"
    }
   ],
   "source": [
    "multilabel_confusion_matrix(ytrue, yhat)"
   ]
  },
  {
   "cell_type": "code",
   "execution_count": 55,
   "id": "b17be363",
   "metadata": {},
   "outputs": [
    {
     "data": {
      "text/plain": [
       "0.9444444444444444"
      ]
     },
     "execution_count": 55,
     "metadata": {},
     "output_type": "execute_result"
    }
   ],
   "source": [
    "accuracy_score(ytrue, yhat)"
   ]
  },
  {
   "cell_type": "markdown",
   "id": "9e24731e",
   "metadata": {},
   "source": [
    "# Test"
   ]
  },
  {
   "cell_type": "code",
   "execution_count": 9,
   "id": "4bdf6e17",
   "metadata": {},
   "outputs": [],
   "source": [
    "\n",
    "model = tensorflow.keras.models.load_model('action.h5')"
   ]
  },
  {
   "cell_type": "code",
   "execution_count": 10,
   "id": "5266b025",
   "metadata": {},
   "outputs": [
    {
     "name": "stdout",
     "output_type": "stream",
     "text": [
      "<class 'mediapipe.python.solution_base.SolutionOutputs'>\n"
     ]
    },
    {
     "ename": "NameError",
     "evalue": "name 'extract_keypoints' is not defined",
     "output_type": "error",
     "traceback": [
      "\u001b[1;31m---------------------------------------------------------------------------\u001b[0m",
      "\u001b[1;31mNameError\u001b[0m                                 Traceback (most recent call last)",
      "Input \u001b[1;32mIn [10]\u001b[0m, in \u001b[0;36m<cell line: 9>\u001b[1;34m()\u001b[0m\n\u001b[0;32m     20\u001b[0m draw_styled_landmarks(image, results)\n\u001b[0;32m     22\u001b[0m \u001b[38;5;66;03m# 2. Prediction logic\u001b[39;00m\n\u001b[1;32m---> 23\u001b[0m keypoints \u001b[38;5;241m=\u001b[39m \u001b[43mextract_keypoints\u001b[49m(results)\n\u001b[0;32m     24\u001b[0m sequence\u001b[38;5;241m.\u001b[39mappend(keypoints)\n\u001b[0;32m     25\u001b[0m sequence \u001b[38;5;241m=\u001b[39m sequence[\u001b[38;5;241m-\u001b[39m\u001b[38;5;241m30\u001b[39m:]\n",
      "\u001b[1;31mNameError\u001b[0m: name 'extract_keypoints' is not defined"
     ]
    }
   ],
   "source": [
    "# 1. New detection variables\n",
    "sequence = []\n",
    "sentence = []\n",
    "predictions = []\n",
    "threshold = 0.5\n",
    "\n",
    "cap = cv2.VideoCapture(0)\n",
    "# Set mediapipe model \n",
    "with mp_holistic.Holistic(min_detection_confidence=0.5, min_tracking_confidence=0.5) as holistic:\n",
    "    while cap.isOpened():\n",
    "\n",
    "        # Read feed\n",
    "        ret, frame = cap.read()\n",
    "\n",
    "        # Make detections\n",
    "        image, results = mediapipe_detection(frame, holistic)\n",
    "        print(results)\n",
    "        \n",
    "        # Draw landmarks\n",
    "        draw_styled_landmarks(image, results)\n",
    "        \n",
    "        # 2. Prediction logic\n",
    "        keypoints = extract_keypoints(results)\n",
    "        sequence.append(keypoints)\n",
    "        sequence = sequence[-30:]\n",
    "        \n",
    "        if len(sequence) == 30:\n",
    "            res = model.predict(np.expand_dims(sequence, axis=0))[0]\n",
    "            print(actions[np.argmax(res)])\n",
    "            predictions.append(np.argmax(res))\n",
    "            \n",
    "            \n",
    "        #3. Visualization logic\n",
    "            if np.unique(predictions[-10:])[0]==np.argmax(res): \n",
    "                if res[np.argmax(res)] > threshold: \n",
    "                    \n",
    "                    if len(sentence) > 0: \n",
    "                        if actions[np.argmax(res)] != sentence[-1]:\n",
    "                            sentence.append(actions[np.argmax(res)])\n",
    "                    else:\n",
    "                        sentence.append(actions[np.argmax(res)])\n",
    "\n",
    "            if len(sentence) > 5: \n",
    "                sentence = sentence[-5:]\n",
    "\n",
    "\n",
    "            \n",
    "        cv2.rectangle(image, (0,0), (640, 40), (245, 117, 16), -1)\n",
    "        cv2.putText(image, ' '.join(sentence), (3,30), \n",
    "                       cv2.FONT_HERSHEY_SIMPLEX, 1, (255, 255, 255), 2, cv2.LINE_AA)\n",
    "        \n",
    "        # Show to screen\n",
    "        cv2.imshow('OpenCV Feed', image)\n",
    "\n",
    "        # Break gracefully\n",
    "        if cv2.waitKey(10) & 0xFF == ord('q'):\n",
    "            break\n",
    "    cap.release()\n",
    "    cv2.destroyAllWindows()"
   ]
  },
  {
   "cell_type": "code",
   "execution_count": 99,
   "id": "d862f619",
   "metadata": {},
   "outputs": [
    {
     "data": {
      "text/plain": [
       "array([[[245, 117,  16],\n",
       "        [245, 117,  16],\n",
       "        [245, 117,  16],\n",
       "        ...,\n",
       "        [245, 117,  16],\n",
       "        [245, 117,  16],\n",
       "        [245, 117,  16]],\n",
       "\n",
       "       [[245, 117,  16],\n",
       "        [245, 117,  16],\n",
       "        [245, 117,  16],\n",
       "        ...,\n",
       "        [245, 117,  16],\n",
       "        [245, 117,  16],\n",
       "        [245, 117,  16]],\n",
       "\n",
       "       [[245, 117,  16],\n",
       "        [245, 117,  16],\n",
       "        [245, 117,  16],\n",
       "        ...,\n",
       "        [245, 117,  16],\n",
       "        [245, 117,  16],\n",
       "        [245, 117,  16]],\n",
       "\n",
       "       ...,\n",
       "\n",
       "       [[ 67,  70,  68],\n",
       "        [ 72,  74,  71],\n",
       "        [ 69,  69,  66],\n",
       "        ...,\n",
       "        [ 84,  98, 107],\n",
       "        [ 78,  92, 101],\n",
       "        [ 79,  95, 102]],\n",
       "\n",
       "       [[ 68,  68,  65],\n",
       "        [ 74,  73,  69],\n",
       "        [ 71,  67,  63],\n",
       "        ...,\n",
       "        [ 89,  99, 110],\n",
       "        [ 81,  92, 102],\n",
       "        [ 86,  98, 107]],\n",
       "\n",
       "       [[ 65,  64,  60],\n",
       "        [ 70,  68,  64],\n",
       "        [ 77,  71,  66],\n",
       "        ...,\n",
       "        [ 90,  98, 111],\n",
       "        [ 83,  92, 103],\n",
       "        [ 88,  98, 108]]], dtype=uint8)"
      ]
     },
     "execution_count": 99,
     "metadata": {},
     "output_type": "execute_result"
    }
   ],
   "source": [
    "image\n"
   ]
  },
  {
   "cell_type": "code",
   "execution_count": 60,
   "id": "4f2df802",
   "metadata": {},
   "outputs": [
    {
     "data": {
      "text/plain": [
       "<matplotlib.image.AxesImage at 0x2a1f13b7610>"
      ]
     },
     "execution_count": 60,
     "metadata": {},
     "output_type": "execute_result"
    },
    {
     "data": {
      "image/png": "[encoded data removed]",
      "text/plain": [
       "<Figure size 432x288 with 1 Axes>"
      ]
     },
     "metadata": {
      "needs_background": "light"
     },
     "output_type": "display_data"
    }
   ],
   "source": [
    "plt.imshow(cv2.cvtColor(image, cv2.COLOR_BGR2RGB))"
   ]
  },
  {
   "cell_type": "code",
   "execution_count": null,
   "id": "2f074902",
   "metadata": {},
   "outputs": [],
   "source": []
  }
 ],
 "metadata": {
  "kernelspec": {
   "display_name": "Python 3 (ipykernel)",
   "language": "python",
   "name": "python3"
  },
  "language_info": {
   "codemirror_mode": {
    "name": "ipython",
    "version": 3
   },
   "file_extension": ".py",
   "mimetype": "text/x-python",
   "name": "python",
   "nbconvert_exporter": "python",
   "pygments_lexer": "ipython3",
   "version": "3.9.12"
  }
 },
 "nbformat": 4,
 "nbformat_minor": 5
}
